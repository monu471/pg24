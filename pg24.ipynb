{
 "cells": [
  {
   "cell_type": "code",
   "execution_count": null,
   "id": "b3a2525e",
   "metadata": {},
   "outputs": [],
   "source": [
    "# What is the relationship between def statements and lambda expressions ?\n",
    "in def statement we can assign name and working of function\n",
    "lambda is built in function and used for in line executions of function"
   ]
  },
  {
   "cell_type": "code",
   "execution_count": null,
   "id": "5d19d15d",
   "metadata": {},
   "outputs": [],
   "source": [
    "# 2. What is the benefit of lambda?\n",
    "by using lambda function we can execute function faster way and we don't have to define function"
   ]
  },
  {
   "cell_type": "code",
   "execution_count": null,
   "id": "5226c2f7",
   "metadata": {},
   "outputs": [],
   "source": [
    "# Compare and contrast map, filter, and reduce.\n",
    "map and filter is like a in built function which will execute same task continously\n",
    "reduce is function which used to short  the argument "
   ]
  },
  {
   "cell_type": "code",
   "execution_count": null,
   "id": "c96e674b",
   "metadata": {},
   "outputs": [],
   "source": [
    "# What are function annotations, and how are they used?\n",
    "Function annotations are arbitrary python expressions that are associated with various part of functions. These expressions are evaluated at compile time and have no life in python’s runtime environment. Python does not attach any meaning to these annotations.\n",
    "# they are use by following\n",
    "def func(a:int ,b:int)-> int:\n",
    "    return(a+b)"
   ]
  },
  {
   "cell_type": "code",
   "execution_count": null,
   "id": "8e1861b7",
   "metadata": {},
   "outputs": [],
   "source": [
    "# What are recursive functions, and how are they used?\n",
    "recursion function are used for which use previous function to execute the program\n"
   ]
  },
  {
   "cell_type": "code",
   "execution_count": 1,
   "id": "df48e5f1",
   "metadata": {},
   "outputs": [],
   "source": [
    "def recursion_fac(n):\n",
    "    if n ==0 or n==1:\n",
    "        return 1\n",
    "    else:\n",
    "        return n*recursion_fac(n-1)\n",
    "    "
   ]
  },
  {
   "cell_type": "code",
   "execution_count": null,
   "id": "edbd5ee4",
   "metadata": {},
   "outputs": [],
   "source": [
    "# What are some general design guidelines for coding functions?\n",
    "Safe: It can be used without causing harm.\n",
    "Secure: It can’t be hacked.\n",
    "Reliable: It functions as it should, every time.\n",
    "Testable: It can be tested at the code level.\n",
    "Maintainable: It can be maintained, even as your codebase grows.\n",
    "Portable: It works the same in every environment."
   ]
  },
  {
   "cell_type": "code",
   "execution_count": null,
   "id": "db14bd3a",
   "metadata": {},
   "outputs": [],
   "source": [
    "# Name three or more ways that functions can communicate results to a caller.\n",
    "following are the few types of call the function\n",
    "Python Built-in Functions.\n",
    "Python Recursion Functions.\n",
    "Python Lambda Functions.\n",
    "Python User-defined Functions."
   ]
  }
 ],
 "metadata": {
  "kernelspec": {
   "display_name": "Python 3 (ipykernel)",
   "language": "python",
   "name": "python3"
  },
  "language_info": {
   "codemirror_mode": {
    "name": "ipython",
    "version": 3
   },
   "file_extension": ".py",
   "mimetype": "text/x-python",
   "name": "python",
   "nbconvert_exporter": "python",
   "pygments_lexer": "ipython3",
   "version": "3.9.12"
  }
 },
 "nbformat": 4,
 "nbformat_minor": 5
}
